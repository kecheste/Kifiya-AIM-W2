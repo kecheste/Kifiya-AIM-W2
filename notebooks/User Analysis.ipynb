{
 "cells": [
  {
   "cell_type": "code",
   "execution_count": 1,
   "metadata": {},
   "outputs": [],
   "source": [
    "import os\n",
    "import psycopg2\n",
    "import pandas as pd\n",
    "from dotenv import load_dotenv"
   ]
  },
  {
   "cell_type": "markdown",
   "metadata": {},
   "source": [
    "## Connects to a PostgreSQL database and executes a given SQL query to load data into a DataFrame."
   ]
  },
  {
   "cell_type": "code",
   "execution_count": 2,
   "metadata": {},
   "outputs": [],
   "source": [
    "# Load environment variables from a .env file\n",
    "load_dotenv()\n",
    "\n",
    "# Retrieve database connection parameters from environment variables\n",
    "DB_HOST = os.getenv(\"DB_HOST\")\n",
    "DB_PORT = os.getenv(\"DB_PORT\")\n",
    "DB_NAME = os.getenv(\"DB_NAME\")\n",
    "DB_PASSWORD = os.getenv(\"DB_PASSWORD\")\n",
    "DB_USER = os.getenv(\"DB_USER\")\n",
    "\n",
    "def load_data_from_postgres(query):\n",
    "   \n",
    "    try:\n",
    "        # Establish a connection to the PostgreSQL database\n",
    "        connection = psycopg2.connect(\n",
    "            host=DB_HOST,       # Database host\n",
    "            port=DB_PORT,       # Database port\n",
    "            database=DB_NAME,   # Database name\n",
    "            password=DB_PASSWORD,# Database password\n",
    "            user=DB_USER        # Database user\n",
    "        )\n",
    "        \n",
    "        # Execute the query and load the result into a DataFrame\n",
    "        df = pd.read_sql_query(query, connection)\n",
    "        \n",
    "        # Close the database connection\n",
    "        connection.close()\n",
    "        \n",
    "        return df  # Return the DataFrame containing the query results\n",
    "\n",
    "    except Exception as e:\n",
    "        # Print an error message if an exception occurs\n",
    "        print(f\"An Error Occurred: {e}\")"
   ]
  },
  {
   "cell_type": "markdown",
   "metadata": {},
   "source": [
    "## Script to load xDR data from PostgreSQL into a pandas DataFrame for analysis"
   ]
  },
  {
   "cell_type": "code",
   "execution_count": 3,
   "metadata": {},
   "outputs": [
    {
     "name": "stderr",
     "output_type": "stream",
     "text": [
      "C:\\Users\\hp\\AppData\\Local\\Temp\\ipykernel_21876\\2582183969.py:24: UserWarning: pandas only supports SQLAlchemy connectable (engine/connection) or database string URI or sqlite3 DBAPI2 connection. Other DBAPI2 objects are not tested. Please consider using SQLAlchemy.\n",
      "  df = pd.read_sql_query(query, connection)\n"
     ]
    },
    {
     "name": "stdout",
     "output_type": "stream",
     "text": [
      "Successfully loaded the data\n"
     ]
    },
    {
     "data": {
      "text/html": [
       "<div>\n",
       "<style scoped>\n",
       "    .dataframe tbody tr th:only-of-type {\n",
       "        vertical-align: middle;\n",
       "    }\n",
       "\n",
       "    .dataframe tbody tr th {\n",
       "        vertical-align: top;\n",
       "    }\n",
       "\n",
       "    .dataframe thead th {\n",
       "        text-align: right;\n",
       "    }\n",
       "</style>\n",
       "<table border=\"1\" class=\"dataframe\">\n",
       "  <thead>\n",
       "    <tr style=\"text-align: right;\">\n",
       "      <th></th>\n",
       "      <th>Bearer Id</th>\n",
       "      <th>Start</th>\n",
       "      <th>Start ms</th>\n",
       "      <th>End</th>\n",
       "      <th>End ms</th>\n",
       "      <th>Dur. (ms)</th>\n",
       "      <th>IMSI</th>\n",
       "      <th>MSISDN/Number</th>\n",
       "      <th>IMEI</th>\n",
       "      <th>Last Location Name</th>\n",
       "      <th>...</th>\n",
       "      <th>Youtube DL (Bytes)</th>\n",
       "      <th>Youtube UL (Bytes)</th>\n",
       "      <th>Netflix DL (Bytes)</th>\n",
       "      <th>Netflix UL (Bytes)</th>\n",
       "      <th>Gaming DL (Bytes)</th>\n",
       "      <th>Gaming UL (Bytes)</th>\n",
       "      <th>Other DL (Bytes)</th>\n",
       "      <th>Other UL (Bytes)</th>\n",
       "      <th>Total UL (Bytes)</th>\n",
       "      <th>Total DL (Bytes)</th>\n",
       "    </tr>\n",
       "  </thead>\n",
       "  <tbody>\n",
       "    <tr>\n",
       "      <th>0</th>\n",
       "      <td>1.311448e+19</td>\n",
       "      <td>4/4/2019 12:01</td>\n",
       "      <td>770.0</td>\n",
       "      <td>4/25/2019 14:35</td>\n",
       "      <td>662.0</td>\n",
       "      <td>1823652.0</td>\n",
       "      <td>2.082014e+14</td>\n",
       "      <td>3.366496e+10</td>\n",
       "      <td>3.552121e+13</td>\n",
       "      <td>9.16456699548519E+015</td>\n",
       "      <td>...</td>\n",
       "      <td>15854611.0</td>\n",
       "      <td>2501332.0</td>\n",
       "      <td>8198936.0</td>\n",
       "      <td>9656251.0</td>\n",
       "      <td>278082303.0</td>\n",
       "      <td>14344150.0</td>\n",
       "      <td>171744450.0</td>\n",
       "      <td>8814393.0</td>\n",
       "      <td>36749741.0</td>\n",
       "      <td>308879636.0</td>\n",
       "    </tr>\n",
       "    <tr>\n",
       "      <th>1</th>\n",
       "      <td>1.311448e+19</td>\n",
       "      <td>4/9/2019 13:04</td>\n",
       "      <td>235.0</td>\n",
       "      <td>4/25/2019 8:15</td>\n",
       "      <td>606.0</td>\n",
       "      <td>1365104.0</td>\n",
       "      <td>2.082019e+14</td>\n",
       "      <td>3.368185e+10</td>\n",
       "      <td>3.579401e+13</td>\n",
       "      <td>L77566A</td>\n",
       "      <td>...</td>\n",
       "      <td>20247395.0</td>\n",
       "      <td>19111729.0</td>\n",
       "      <td>18338413.0</td>\n",
       "      <td>17227132.0</td>\n",
       "      <td>608750074.0</td>\n",
       "      <td>1170709.0</td>\n",
       "      <td>526904238.0</td>\n",
       "      <td>15055145.0</td>\n",
       "      <td>53800391.0</td>\n",
       "      <td>653384965.0</td>\n",
       "    </tr>\n",
       "    <tr>\n",
       "      <th>2</th>\n",
       "      <td>1.311448e+19</td>\n",
       "      <td>4/9/2019 17:42</td>\n",
       "      <td>1.0</td>\n",
       "      <td>4/25/2019 11:58</td>\n",
       "      <td>652.0</td>\n",
       "      <td>1361762.0</td>\n",
       "      <td>2.082003e+14</td>\n",
       "      <td>3.376063e+10</td>\n",
       "      <td>3.528151e+13</td>\n",
       "      <td>D42335A</td>\n",
       "      <td>...</td>\n",
       "      <td>19725661.0</td>\n",
       "      <td>14699576.0</td>\n",
       "      <td>17587794.0</td>\n",
       "      <td>6163408.0</td>\n",
       "      <td>229584621.0</td>\n",
       "      <td>395630.0</td>\n",
       "      <td>410692588.0</td>\n",
       "      <td>4215763.0</td>\n",
       "      <td>27883638.0</td>\n",
       "      <td>279807335.0</td>\n",
       "    </tr>\n",
       "    <tr>\n",
       "      <th>3</th>\n",
       "      <td>1.311448e+19</td>\n",
       "      <td>4/10/2019 0:31</td>\n",
       "      <td>486.0</td>\n",
       "      <td>4/25/2019 7:36</td>\n",
       "      <td>171.0</td>\n",
       "      <td>1321509.0</td>\n",
       "      <td>2.082014e+14</td>\n",
       "      <td>3.375034e+10</td>\n",
       "      <td>3.535661e+13</td>\n",
       "      <td>T21824A</td>\n",
       "      <td>...</td>\n",
       "      <td>21388122.0</td>\n",
       "      <td>15146643.0</td>\n",
       "      <td>13994646.0</td>\n",
       "      <td>1097942.0</td>\n",
       "      <td>799538153.0</td>\n",
       "      <td>10849722.0</td>\n",
       "      <td>749039933.0</td>\n",
       "      <td>12797283.0</td>\n",
       "      <td>43324218.0</td>\n",
       "      <td>846028530.0</td>\n",
       "    </tr>\n",
       "    <tr>\n",
       "      <th>4</th>\n",
       "      <td>1.311448e+19</td>\n",
       "      <td>4/12/2019 20:10</td>\n",
       "      <td>565.0</td>\n",
       "      <td>4/25/2019 10:40</td>\n",
       "      <td>954.0</td>\n",
       "      <td>1089009.0</td>\n",
       "      <td>2.082014e+14</td>\n",
       "      <td>3.369980e+10</td>\n",
       "      <td>3.540701e+13</td>\n",
       "      <td>D88865A</td>\n",
       "      <td>...</td>\n",
       "      <td>15259380.0</td>\n",
       "      <td>18962873.0</td>\n",
       "      <td>17124581.0</td>\n",
       "      <td>415218.0</td>\n",
       "      <td>527707248.0</td>\n",
       "      <td>3529801.0</td>\n",
       "      <td>550709500.0</td>\n",
       "      <td>13910322.0</td>\n",
       "      <td>38542814.0</td>\n",
       "      <td>569138589.0</td>\n",
       "    </tr>\n",
       "  </tbody>\n",
       "</table>\n",
       "<p>5 rows × 55 columns</p>\n",
       "</div>"
      ],
      "text/plain": [
       "      Bearer Id            Start  Start ms              End  End ms  \\\n",
       "0  1.311448e+19   4/4/2019 12:01     770.0  4/25/2019 14:35   662.0   \n",
       "1  1.311448e+19   4/9/2019 13:04     235.0   4/25/2019 8:15   606.0   \n",
       "2  1.311448e+19   4/9/2019 17:42       1.0  4/25/2019 11:58   652.0   \n",
       "3  1.311448e+19   4/10/2019 0:31     486.0   4/25/2019 7:36   171.0   \n",
       "4  1.311448e+19  4/12/2019 20:10     565.0  4/25/2019 10:40   954.0   \n",
       "\n",
       "   Dur. (ms)          IMSI  MSISDN/Number          IMEI  \\\n",
       "0  1823652.0  2.082014e+14   3.366496e+10  3.552121e+13   \n",
       "1  1365104.0  2.082019e+14   3.368185e+10  3.579401e+13   \n",
       "2  1361762.0  2.082003e+14   3.376063e+10  3.528151e+13   \n",
       "3  1321509.0  2.082014e+14   3.375034e+10  3.535661e+13   \n",
       "4  1089009.0  2.082014e+14   3.369980e+10  3.540701e+13   \n",
       "\n",
       "      Last Location Name  ...  Youtube DL (Bytes)  Youtube UL (Bytes)  \\\n",
       "0  9.16456699548519E+015  ...          15854611.0           2501332.0   \n",
       "1                L77566A  ...          20247395.0          19111729.0   \n",
       "2                D42335A  ...          19725661.0          14699576.0   \n",
       "3                T21824A  ...          21388122.0          15146643.0   \n",
       "4                D88865A  ...          15259380.0          18962873.0   \n",
       "\n",
       "   Netflix DL (Bytes)  Netflix UL (Bytes)  Gaming DL (Bytes)  \\\n",
       "0           8198936.0           9656251.0        278082303.0   \n",
       "1          18338413.0          17227132.0        608750074.0   \n",
       "2          17587794.0           6163408.0        229584621.0   \n",
       "3          13994646.0           1097942.0        799538153.0   \n",
       "4          17124581.0            415218.0        527707248.0   \n",
       "\n",
       "   Gaming UL (Bytes)  Other DL (Bytes)  Other UL (Bytes)  Total UL (Bytes)  \\\n",
       "0         14344150.0       171744450.0         8814393.0        36749741.0   \n",
       "1          1170709.0       526904238.0        15055145.0        53800391.0   \n",
       "2           395630.0       410692588.0         4215763.0        27883638.0   \n",
       "3         10849722.0       749039933.0        12797283.0        43324218.0   \n",
       "4          3529801.0       550709500.0        13910322.0        38542814.0   \n",
       "\n",
       "   Total DL (Bytes)  \n",
       "0       308879636.0  \n",
       "1       653384965.0  \n",
       "2       279807335.0  \n",
       "3       846028530.0  \n",
       "4       569138589.0  \n",
       "\n",
       "[5 rows x 55 columns]"
      ]
     },
     "execution_count": 3,
     "metadata": {},
     "output_type": "execute_result"
    }
   ],
   "source": [
    "# Define the SQL query to select all data from the xdr_data table\n",
    "query = \"SELECT * FROM xdr_data\"\n",
    "\n",
    "# Load the data from PostgreSQL using the defined query\n",
    "df = load_data_from_postgres(query)\n",
    "\n",
    "# Check if the DataFrame was successfully loaded\n",
    "if df is not None:\n",
    "    print(\"Successfully loaded the data\")  # Confirmation message for successful data loading\n",
    "else:\n",
    "    print(\"Failed to load data\")  # Error message if loading data failed\n",
    "\n",
    "# Display the first few rows of the DataFrame\n",
    "df.head()"
   ]
  },
  {
   "cell_type": "markdown",
   "metadata": {},
   "source": [
    "### Identify Top Handsets and Manufacturers\n",
    "#### Top 10 Handsets"
   ]
  },
  {
   "cell_type": "code",
   "execution_count": 4,
   "metadata": {},
   "outputs": [
    {
     "name": "stdout",
     "output_type": "stream",
     "text": [
      "Top 10 Handsets Used by Customers:\n",
      "Handset Type\n",
      "Huawei B528S-23A                19752\n",
      "Apple iPhone 6S (A1688)          9419\n",
      "Apple iPhone 6 (A1586)           9023\n",
      "undefined                        8987\n",
      "Apple iPhone 7 (A1778)           6326\n",
      "Apple iPhone Se (A1723)          5187\n",
      "Apple iPhone 8 (A1905)           4993\n",
      "Apple iPhone Xr (A2105)          4568\n",
      "Samsung Galaxy S8 (Sm-G950F)     4520\n",
      "Apple iPhone X (A1901)           3813\n",
      "Name: count, dtype: int64\n"
     ]
    }
   ],
   "source": [
    "# Identify top 10 handsets\n",
    "top_handsets = df['Handset Type'].value_counts().head(10)\n",
    "print(\"Top 10 Handsets Used by Customers:\")\n",
    "print(top_handsets)"
   ]
  },
  {
   "cell_type": "markdown",
   "metadata": {},
   "source": [
    "#### Top 3 handset manufacturers"
   ]
  },
  {
   "cell_type": "code",
   "execution_count": 5,
   "metadata": {},
   "outputs": [
    {
     "name": "stdout",
     "output_type": "stream",
     "text": [
      "\n",
      "Top 3 Handset Manufacturers:\n",
      "Handset Manufacturer\n",
      "Apple      59565\n",
      "Samsung    40839\n",
      "Huawei     34423\n",
      "Name: count, dtype: int64\n"
     ]
    }
   ],
   "source": [
    "# Identify top 3 handset manufacturers\n",
    "top_manufacturers = df['Handset Manufacturer'].value_counts().head(3)\n",
    "print(\"\\nTop 3 Handset Manufacturers:\")\n",
    "print(top_manufacturers)"
   ]
  },
  {
   "cell_type": "markdown",
   "metadata": {},
   "source": [
    "#### Identify top 5 handsets per 3 manufacturers"
   ]
  },
  {
   "cell_type": "code",
   "execution_count": 6,
   "metadata": {},
   "outputs": [
    {
     "name": "stdout",
     "output_type": "stream",
     "text": [
      "\n",
      "Top 5 Handsets per Top 3 Manufacturers:\n",
      "\n",
      "Apple:\n",
      "Handset Type\n",
      "Apple iPhone 6S (A1688)    9419\n",
      "Apple iPhone 6 (A1586)     9023\n",
      "Apple iPhone 7 (A1778)     6326\n",
      "Apple iPhone Se (A1723)    5187\n",
      "Apple iPhone 8 (A1905)     4993\n",
      "Name: count, dtype: int64\n",
      "\n",
      "Samsung:\n",
      "Handset Type\n",
      "Samsung Galaxy S8 (Sm-G950F)    4520\n",
      "Samsung Galaxy A5 Sm-A520F      3724\n",
      "Samsung Galaxy J5 (Sm-J530)     3696\n",
      "Samsung Galaxy J3 (Sm-J330)     3484\n",
      "Samsung Galaxy S7 (Sm-G930X)    3199\n",
      "Name: count, dtype: int64\n",
      "\n",
      "Huawei:\n",
      "Handset Type\n",
      "Huawei B528S-23A                  19752\n",
      "Huawei E5180                       2079\n",
      "Huawei P20 Lite Huawei Nova 3E     2021\n",
      "Huawei P20                         1480\n",
      "Huawei Y6 2018                      997\n",
      "Name: count, dtype: int64\n"
     ]
    }
   ],
   "source": [
    "# Initialize a dictionary to store top handsets for each manufacturer\n",
    "top_handsets_per_manufacturer = {}\n",
    "\n",
    "# Iterate over the top manufacturers\n",
    "for manufacturer in top_manufacturers.index:\n",
    "    # Filter the DataFrame for the current manufacturer and count the occurrences of each handset type\n",
    "    # Store the top 5 handsets in the dictionary\n",
    "    top_handsets_per_manufacturer[manufacturer] = df[df['Handset Manufacturer'] == manufacturer]['Handset Type'].value_counts().head(5)\n",
    "# Print the top 5 handsets for each of the top 3 manufacturers\n",
    "print(\"\\nTop 5 Handsets per Top 3 Manufacturers:\")\n",
    "for manufacturer, handsets in top_handsets_per_manufacturer.items():\n",
    "    print(f\"\\n{manufacturer}:\")  # Print the manufacturer's name\n",
    "    print(handsets)  # Print the top handsets for that manufacturer"
   ]
  },
  {
   "cell_type": "markdown",
   "metadata": {},
   "source": [
    "#### User behavior overview"
   ]
  },
  {
   "cell_type": "code",
   "execution_count": 7,
   "metadata": {},
   "outputs": [
    {
     "name": "stdout",
     "output_type": "stream",
     "text": [
      "            IMSI  number_of_xDR_sessions  session_duration     total_DL  \\\n",
      "0   2.040471e+14                       1          869844.0   78697597.0   \n",
      "1   2.040808e+14                       1          877385.0  194828056.0   \n",
      "2   2.082001e+14                       1           86019.0   31376981.0   \n",
      "3   2.082001e+14                       1           86254.0  392918313.0   \n",
      "4   2.082001e+14                       2          573923.0  961767023.0   \n",
      "..           ...                     ...               ...          ...   \n",
      "95  2.082003e+14                       1          136818.0  780288731.0   \n",
      "96  2.082003e+14                       1          111261.0  506379008.0   \n",
      "97  2.082003e+14                       1          158256.0  534313706.0   \n",
      "98  2.082003e+14                       1          116676.0   48877492.0   \n",
      "99  2.082003e+14                       1           93530.0  400056081.0   \n",
      "\n",
      "      total_UL  social_media_DL   google_DL   email_DL  youtube_DL  \\\n",
      "0   60456049.0        1500145.0   5985089.0  2518425.0  18980320.0   \n",
      "1   37295915.0         668596.0   8572779.0   842279.0   9839889.0   \n",
      "2   53794658.0        3073697.0    603691.0  3076735.0   5556563.0   \n",
      "3   33583272.0        2542767.0  10699827.0  3248863.0  22414714.0   \n",
      "4   71325004.0        3326811.0   9118088.0  4225757.0   4046597.0   \n",
      "..         ...              ...         ...        ...         ...   \n",
      "95  23137790.0        1694529.0   7708824.0  3241557.0  15020045.0   \n",
      "96  39637836.0        3229167.0   8632155.0  2189191.0  16042328.0   \n",
      "97  32565537.0        2828111.0   4272083.0   880378.0  14400817.0   \n",
      "98  38695071.0        1623778.0   1943536.0  1741047.0  15291657.0   \n",
      "99  30178469.0        2039241.0   2635342.0  1060411.0  14498770.0   \n",
      "\n",
      "    netflix_DL    gaming_DL      other_DL  \n",
      "0   21621336.0   28092282.0  3.891597e+08  \n",
      "1   10340908.0  164563605.0  4.676781e+08  \n",
      "2   15305361.0    3760934.0  5.000445e+08  \n",
      "3   10065639.0  343946503.0  3.009029e+08  \n",
      "4   30748449.0  910301321.0  1.055869e+09  \n",
      "..         ...          ...           ...  \n",
      "95   5154450.0  747469326.0  2.519214e+08  \n",
      "96   2749588.0  473536579.0  2.727299e+07  \n",
      "97  12661051.0  499271266.0  4.203820e+08  \n",
      "98  21018139.0    7259335.0  6.484488e+08  \n",
      "99    535898.0  379286419.0  1.281849e+08  \n",
      "\n",
      "[100 rows x 12 columns]\n"
     ]
    }
   ],
   "source": [
    "# Aggregate user behavior\n",
    "user_behavior = df.groupby('IMSI').agg(\n",
    "    number_of_xDR_sessions=('Bearer Id', 'count'),\n",
    "    session_duration=('Dur. (ms)', 'sum'),\n",
    "    total_DL=('Total DL (Bytes)', 'sum'),\n",
    "    total_UL=('Total UL (Bytes)', 'sum'),\n",
    "    social_media_DL=('Social Media DL (Bytes)', 'sum'),\n",
    "    google_DL=('Google DL (Bytes)', 'sum'),\n",
    "    email_DL=('Email DL (Bytes)', 'sum'),\n",
    "    youtube_DL=('Youtube DL (Bytes)', 'sum'),\n",
    "    netflix_DL=('Netflix DL (Bytes)', 'sum'),\n",
    "    gaming_DL=('Gaming DL (Bytes)', 'sum'),\n",
    "    other_DL=('Other DL (Bytes)', 'sum')\n",
    ").reset_index()\n",
    "\n",
    "print(user_behavior.head(100))"
   ]
  },
  {
   "cell_type": "markdown",
   "metadata": {},
   "source": [
    "### Exploratory Data Analysis(EDA)\n",
    "#### Data cleaning"
   ]
  },
  {
   "cell_type": "code",
   "execution_count": 8,
   "metadata": {},
   "outputs": [],
   "source": [
    "# Identify and treat outliers (e.g., remove top 5% as outliers)\n",
    "for col in ['Dur. (ms)', 'Total DL (Bytes)', 'Total UL (Bytes)']:\n",
    "    df = df[df[col] <= df[col].quantile(0.95)]  # Keep 95% of the data\n",
    "\n",
    "# Validate data integrity: Check that upload and download speeds are not negative\n",
    "df = df[(df['Total DL (Bytes)'] >= 0) & (df['Total UL (Bytes)'] >= 0)]\n",
    "\n",
    "# session durations are not negative\n",
    "df = df[df['Dur. (ms)'] >= 0]"
   ]
  },
  {
   "cell_type": "markdown",
   "metadata": {},
   "source": [
    "#### Describe relevant variables"
   ]
  },
  {
   "cell_type": "code",
   "execution_count": 9,
   "metadata": {},
   "outputs": [
    {
     "name": "stdout",
     "output_type": "stream",
     "text": [
      "           Bearer Id           Start       Start ms             End  \\\n",
      "count   1.277140e+05          128606  128606.000000          128606   \n",
      "unique           NaN            8036            NaN            6225   \n",
      "top              NaN  4/26/2019 7:25            NaN  4/25/2019 0:01   \n",
      "freq             NaN             188            NaN            1028   \n",
      "mean    1.013895e+19             NaN     499.252741             NaN   \n",
      "std     2.893980e+18             NaN     288.566331             NaN   \n",
      "min     6.917538e+18             NaN       0.000000             NaN   \n",
      "25%     7.349883e+18             NaN     250.000000             NaN   \n",
      "50%     7.349883e+18             NaN     499.000000             NaN   \n",
      "75%     1.304243e+19             NaN     749.000000             NaN   \n",
      "max     1.318654e+19             NaN     999.000000             NaN   \n",
      "\n",
      "              End ms      Dur. (ms)          IMSI  MSISDN/Number  \\\n",
      "count   128606.00000  128606.000000  1.281050e+05   1.276800e+05   \n",
      "unique           NaN            NaN           NaN            NaN   \n",
      "top              NaN            NaN           NaN            NaN   \n",
      "freq             NaN            NaN           NaN            NaN   \n",
      "mean       498.83591   91955.445726  2.082017e+14   3.367446e+10   \n",
      "std        288.15902   50036.154953  1.646073e+10   4.506234e+07   \n",
      "min          0.00000    7142.000000  2.082001e+14   3.360100e+10   \n",
      "25%        251.00000   54776.250000  2.082014e+14   3.365129e+10   \n",
      "50%        500.00000   86399.000000  2.082015e+14   3.366368e+10   \n",
      "75%        750.00000  120359.500000  2.082018e+14   3.368313e+10   \n",
      "max        999.00000  241538.000000  2.140743e+14   3.379000e+10   \n",
      "\n",
      "                IMEI Last Location Name  ...  Youtube DL (Bytes)  \\\n",
      "count   1.281030e+05             127571  ...        1.286060e+05   \n",
      "unique           NaN              42712  ...                 NaN   \n",
      "top              NaN            D41377B  ...                 NaN   \n",
      "freq             NaN                 69  ...                 NaN   \n",
      "mean    4.869984e+13                NaN  ...        1.157229e+07   \n",
      "std     2.255511e+13                NaN  ...        6.705066e+06   \n",
      "min     4.400152e+11                NaN  ...        5.300000e+01   \n",
      "25%     3.546521e+13                NaN  ...        5.778792e+06   \n",
      "50%     3.572281e+13                NaN  ...        1.151588e+07   \n",
      "75%     8.616690e+13                NaN  ...        1.737344e+07   \n",
      "max     9.900120e+13                NaN  ...        2.325910e+07   \n",
      "\n",
      "        Youtube UL (Bytes)  Netflix DL (Bytes)  Netflix UL (Bytes)  \\\n",
      "count         1.286060e+05        1.286060e+05        1.286060e+05   \n",
      "unique                 NaN                 NaN                 NaN   \n",
      "top                    NaN                 NaN                 NaN   \n",
      "freq                   NaN                 NaN                 NaN   \n",
      "mean          1.064474e+07        1.156295e+07        1.064229e+07   \n",
      "std           6.256317e+06        6.718031e+06        6.268407e+06   \n",
      "min           1.050000e+02        4.200000e+01        3.500000e+01   \n",
      "25%           5.256489e+06        5.710339e+06        5.205950e+06   \n",
      "50%           1.049675e+07        1.155652e+07        1.049831e+07   \n",
      "75%           1.595722e+07        1.737537e+07        1.594883e+07   \n",
      "max           2.201182e+07        2.325883e+07        2.201196e+07   \n",
      "\n",
      "        Gaming DL (Bytes)  Gaming UL (Bytes)  Other DL (Bytes)  \\\n",
      "count        1.286060e+05       1.286060e+05      1.286060e+05   \n",
      "unique                NaN                NaN               NaN   \n",
      "top                   NaN                NaN               NaN   \n",
      "freq                  NaN                NaN               NaN   \n",
      "mean         4.012835e+08       8.059668e+06      4.213827e+08   \n",
      "std          2.318470e+08       4.746480e+06      2.432378e+08   \n",
      "min          2.516000e+03       5.900000e+01      3.290000e+03   \n",
      "25%          2.003945e+08       3.929738e+06      2.105371e+08   \n",
      "50%          4.024736e+08       7.958270e+06      4.224268e+08   \n",
      "75%          6.015084e+08       1.211055e+07      6.321199e+08   \n",
      "max          8.256121e+08       1.655879e+07      8.434425e+08   \n",
      "\n",
      "        Other UL (Bytes)  Total UL (Bytes)  Total DL (Bytes)  \n",
      "count       1.286060e+05      1.286060e+05      1.286060e+05  \n",
      "unique               NaN               NaN               NaN  \n",
      "top                  NaN               NaN               NaN  \n",
      "freq                 NaN               NaN               NaN  \n",
      "mean        8.046083e+06      3.993317e+07      4.337395e+08  \n",
      "std         4.730905e+06      1.023722e+07      2.317900e+08  \n",
      "min         1.480000e+02      2.866892e+06      7.114041e+06  \n",
      "25%         3.968483e+06      3.277094e+07      2.329902e+08  \n",
      "50%         7.938952e+06      4.041934e+07      4.351468e+08  \n",
      "75%         1.207305e+07      4.769971e+07      6.339916e+08  \n",
      "max         1.655882e+07      5.971068e+07      8.342124e+08  \n",
      "\n",
      "[11 rows x 55 columns]\n"
     ]
    }
   ],
   "source": [
    "# Describe relevant variables and their data types\n",
    "description = df.describe(include='all')\n",
    "print(description)"
   ]
  },
  {
   "cell_type": "markdown",
   "metadata": {},
   "source": [
    "#### Segment users into deciles"
   ]
  },
  {
   "cell_type": "code",
   "execution_count": 10,
   "metadata": {},
   "outputs": [
    {
     "name": "stdout",
     "output_type": "stream",
     "text": [
      "                  total_DL      total_UL\n",
      "decile_class                            \n",
      "0             1.060645e+13  9.566171e+11\n",
      "1             1.167460e+13  1.057264e+12\n",
      "2             1.056633e+13  9.564600e+11\n",
      "3             1.285782e+13  1.161486e+12\n",
      "4             2.223329e+13  2.012848e+12\n"
     ]
    }
   ],
   "source": [
    "# Segment users into decile classes based on session duration\n",
    "user_behavior['decile_class'] = pd.qcut(user_behavior['session_duration'], 5, labels=False)\n",
    "\n",
    "# Compute total data (DL + UL) per decile class\n",
    "total_data_per_decile = user_behavior.groupby('decile_class')[['total_DL', 'total_UL']].sum()\n",
    "print(total_data_per_decile)"
   ]
  },
  {
   "cell_type": "markdown",
   "metadata": {},
   "source": [
    "#### Non-Graphical Univariate Analysis"
   ]
  },
  {
   "cell_type": "code",
   "execution_count": 12,
   "metadata": {},
   "outputs": [
    {
     "name": "stdout",
     "output_type": "stream",
     "text": [
      "Standard Deviation:\n",
      "total_DL            4.643722e+08\n",
      "total_UL            3.564266e+07\n",
      "session_duration    1.863518e+05\n",
      "dtype: float64\n"
     ]
    }
   ],
   "source": [
    "# Compute dispersion parameters (standard deviation)\n",
    "std_dev = user_behavior[['total_DL', 'total_UL', 'session_duration']].std()\n",
    "print(\"Standard Deviation:\")\n",
    "print(std_dev)"
   ]
  },
  {
   "cell_type": "markdown",
   "metadata": {},
   "source": [
    "#### Graphical Univariate Analysis\n"
   ]
  },
  {
   "cell_type": "code",
   "execution_count": 13,
   "metadata": {},
   "outputs": [
    {
     "data": {
      "image/png": "[encoded data removed]",
      "text/plain": [
       "<Figure size 1200x600 with 1 Axes>"
      ]
     },
     "metadata": {},
     "output_type": "display_data"
    }
   ],
   "source": [
    "import matplotlib.pyplot as plt\n",
    "import seaborn as sns\n",
    "\n",
    "# Plot the distribution of session duration\n",
    "plt.figure(figsize=(12, 6))\n",
    "sns.histplot(user_behavior['session_duration'], bins=30, kde=True)\n",
    "plt.title('Session Duration Distribution')\n",
    "plt.xlabel('Session Duration (ms)')\n",
    "plt.ylabel('Frequency')\n",
    "plt.show()"
   ]
  },
  {
   "cell_type": "markdown",
   "metadata": {},
   "source": [
    "#### Bivariate analysis"
   ]
  },
  {
   "cell_type": "code",
   "execution_count": 14,
   "metadata": {},
   "outputs": [
    {
     "data": {
      "image/png": "[encoded data removed]",
      "text/plain": [
       "<Figure size 1200x600 with 1 Axes>"
      ]
     },
     "metadata": {},
     "output_type": "display_data"
    }
   ],
   "source": [
    "# Explore relationships between applications and total DL+UL data\n",
    "plt.figure(figsize=(12, 6))\n",
    "sns.scatterplot(data=user_behavior, x='total_DL', y='social_media_DL', alpha=0.6)\n",
    "plt.title('Total DL vs Social Media DL')\n",
    "plt.xlabel('Total DL (Bytes)')\n",
    "plt.ylabel('Social Media DL (Bytes)')\n",
    "plt.show()"
   ]
  },
  {
   "cell_type": "markdown",
   "metadata": {},
   "source": [
    "#### Correlation analysis"
   ]
  },
  {
   "cell_type": "code",
   "execution_count": 15,
   "metadata": {},
   "outputs": [
    {
     "name": "stdout",
     "output_type": "stream",
     "text": [
      "Correlation Matrix:\n",
      "                         Social Media DL (Bytes)  Google DL (Bytes)  \\\n",
      "Social Media DL (Bytes)                 1.000000           0.001447   \n",
      "Google DL (Bytes)                       0.001447           1.000000   \n",
      "Email DL (Bytes)                        0.003724          -0.000462   \n",
      "Youtube DL (Bytes)                     -0.002096           0.000162   \n",
      "Netflix DL (Bytes)                     -0.002263          -0.000124   \n",
      "Gaming DL (Bytes)                      -0.001632          -0.007294   \n",
      "Other DL (Bytes)                        0.005846          -0.001817   \n",
      "\n",
      "                         Email DL (Bytes)  Youtube DL (Bytes)  \\\n",
      "Social Media DL (Bytes)          0.003724           -0.002096   \n",
      "Google DL (Bytes)               -0.000462            0.000162   \n",
      "Email DL (Bytes)                 1.000000            0.001325   \n",
      "Youtube DL (Bytes)               0.001325            1.000000   \n",
      "Netflix DL (Bytes)               0.001045            0.001432   \n",
      "Gaming DL (Bytes)               -0.003270           -0.018208   \n",
      "Other DL (Bytes)                -0.001033           -0.000564   \n",
      "\n",
      "                         Netflix DL (Bytes)  Gaming DL (Bytes)  \\\n",
      "Social Media DL (Bytes)           -0.002263          -0.001632   \n",
      "Google DL (Bytes)                 -0.000124          -0.007294   \n",
      "Email DL (Bytes)                   0.001045          -0.003270   \n",
      "Youtube DL (Bytes)                 0.001432          -0.018208   \n",
      "Netflix DL (Bytes)                 1.000000          -0.019122   \n",
      "Gaming DL (Bytes)                 -0.019122           1.000000   \n",
      "Other DL (Bytes)                  -0.004871          -0.000927   \n",
      "\n",
      "                         Other DL (Bytes)  \n",
      "Social Media DL (Bytes)          0.005846  \n",
      "Google DL (Bytes)               -0.001817  \n",
      "Email DL (Bytes)                -0.001033  \n",
      "Youtube DL (Bytes)              -0.000564  \n",
      "Netflix DL (Bytes)              -0.004871  \n",
      "Gaming DL (Bytes)               -0.000927  \n",
      "Other DL (Bytes)                 1.000000  \n"
     ]
    }
   ],
   "source": [
    "# Compute a correlation matrix\n",
    "correlation_matrix = df[['Social Media DL (Bytes)', 'Google DL (Bytes)', 'Email DL (Bytes)',\n",
    "                         'Youtube DL (Bytes)', 'Netflix DL (Bytes)', 'Gaming DL (Bytes)', 'Other DL (Bytes)']].corr()\n",
    "\n",
    "print(\"Correlation Matrix:\")\n",
    "print(correlation_matrix)"
   ]
  },
  {
   "cell_type": "markdown",
   "metadata": {},
   "source": [
    "#### Dimensionality reduction with PCA"
   ]
  },
  {
   "cell_type": "code",
   "execution_count": 16,
   "metadata": {},
   "outputs": [
    {
     "name": "stdout",
     "output_type": "stream",
     "text": [
      "PCA Results:\n",
      "        PC1       PC2\n",
      "0  0.243592  0.980096\n",
      "1  0.378702  1.006181\n",
      "2 -0.488466  0.968168\n",
      "3  0.700005  1.905920\n",
      "4  0.474193 -1.654010\n",
      "Explained Variance Ratios:\n",
      "[0.14695898 0.14394945]\n"
     ]
    }
   ],
   "source": [
    "from sklearn.decomposition import PCA\n",
    "from sklearn.preprocessing import StandardScaler\n",
    "\n",
    "# Prepare data for PCA\n",
    "features = df[['Social Media DL (Bytes)', 'Google DL (Bytes)', 'Email DL (Bytes)',\n",
    "               'Youtube DL (Bytes)', 'Netflix DL (Bytes)', 'Gaming DL (Bytes)', 'Other DL (Bytes)']]\n",
    "features_scaled = StandardScaler().fit_transform(features)\n",
    "\n",
    "# Perform PCA\n",
    "pca = PCA(n_components=2)\n",
    "principal_components = pca.fit_transform(features_scaled)\n",
    "\n",
    "# Create a DataFrame with PCA results\n",
    "pca_df = pd.DataFrame(data=principal_components, columns=['PC1', 'PC2'])\n",
    "\n",
    "print(\"PCA Results:\")\n",
    "print(pca_df.head())\n",
    "\n",
    "# Explained variance\n",
    "explained_variance = pca.explained_variance_ratio_\n",
    "print(\"Explained Variance Ratios:\")\n",
    "print(explained_variance)"
   ]
  },
  {
   "cell_type": "markdown",
   "metadata": {},
   "source": [
    "## User Engagement Analysis"
   ]
  },
  {
   "cell_type": "markdown",
   "metadata": {},
   "source": [
    "#### Aggregate metrics per customer"
   ]
  },
  {
   "cell_type": "code",
   "execution_count": 17,
   "metadata": {},
   "outputs": [
    {
     "data": {
      "text/html": [
       "<div>\n",
       "<style scoped>\n",
       "    .dataframe tbody tr th:only-of-type {\n",
       "        vertical-align: middle;\n",
       "    }\n",
       "\n",
       "    .dataframe tbody tr th {\n",
       "        vertical-align: top;\n",
       "    }\n",
       "\n",
       "    .dataframe thead th {\n",
       "        text-align: right;\n",
       "    }\n",
       "</style>\n",
       "<table border=\"1\" class=\"dataframe\">\n",
       "  <thead>\n",
       "    <tr style=\"text-align: right;\">\n",
       "      <th></th>\n",
       "      <th>MSISDN/Number</th>\n",
       "      <th>session_frequency</th>\n",
       "      <th>total_duration</th>\n",
       "      <th>total_DL</th>\n",
       "      <th>total_UL</th>\n",
       "      <th>total_traffic</th>\n",
       "    </tr>\n",
       "  </thead>\n",
       "  <tbody>\n",
       "    <tr>\n",
       "      <th>0</th>\n",
       "      <td>3.360100e+10</td>\n",
       "      <td>1</td>\n",
       "      <td>181230.0</td>\n",
       "      <td>1.207552e+08</td>\n",
       "      <td>36104459.0</td>\n",
       "      <td>1.568596e+08</td>\n",
       "    </tr>\n",
       "    <tr>\n",
       "      <th>1</th>\n",
       "      <td>3.360100e+10</td>\n",
       "      <td>1</td>\n",
       "      <td>134969.0</td>\n",
       "      <td>5.566597e+08</td>\n",
       "      <td>39306820.0</td>\n",
       "      <td>5.959665e+08</td>\n",
       "    </tr>\n",
       "    <tr>\n",
       "      <th>2</th>\n",
       "      <td>3.360101e+10</td>\n",
       "      <td>1</td>\n",
       "      <td>49878.0</td>\n",
       "      <td>4.019932e+08</td>\n",
       "      <td>20327526.0</td>\n",
       "      <td>4.223207e+08</td>\n",
       "    </tr>\n",
       "    <tr>\n",
       "      <th>3</th>\n",
       "      <td>3.360101e+10</td>\n",
       "      <td>2</td>\n",
       "      <td>37104.0</td>\n",
       "      <td>1.363130e+09</td>\n",
       "      <td>94280527.0</td>\n",
       "      <td>1.457411e+09</td>\n",
       "    </tr>\n",
       "    <tr>\n",
       "      <th>4</th>\n",
       "      <td>3.360101e+10</td>\n",
       "      <td>2</td>\n",
       "      <td>253983.0</td>\n",
       "      <td>5.552080e+08</td>\n",
       "      <td>60009249.0</td>\n",
       "      <td>6.152172e+08</td>\n",
       "    </tr>\n",
       "  </tbody>\n",
       "</table>\n",
       "</div>"
      ],
      "text/plain": [
       "   MSISDN/Number  session_frequency  total_duration      total_DL    total_UL  \\\n",
       "0   3.360100e+10                  1        181230.0  1.207552e+08  36104459.0   \n",
       "1   3.360100e+10                  1        134969.0  5.566597e+08  39306820.0   \n",
       "2   3.360101e+10                  1         49878.0  4.019932e+08  20327526.0   \n",
       "3   3.360101e+10                  2         37104.0  1.363130e+09  94280527.0   \n",
       "4   3.360101e+10                  2        253983.0  5.552080e+08  60009249.0   \n",
       "\n",
       "   total_traffic  \n",
       "0   1.568596e+08  \n",
       "1   5.959665e+08  \n",
       "2   4.223207e+08  \n",
       "3   1.457411e+09  \n",
       "4   6.152172e+08  "
      ]
     },
     "execution_count": 17,
     "metadata": {},
     "output_type": "execute_result"
    }
   ],
   "source": [
    "engagement_metrics = df.groupby('MSISDN/Number').agg(\n",
    "    session_frequency=('Bearer Id', 'count'),  # Count sessions per customer\n",
    "    total_duration=('Dur. (ms)', 'sum'),       # Sum of session durations\n",
    "    total_DL=('Total DL (Bytes)', 'sum'),      # Sum of total download traffic\n",
    "    total_UL=('Total UL (Bytes)', 'sum')       # Sum of total upload traffic\n",
    ").reset_index()\n",
    "\n",
    "# Calculate total traffic after aggregation\n",
    "engagement_metrics['total_traffic'] = engagement_metrics['total_DL'] + engagement_metrics['total_UL']\n",
    "\n",
    "engagement_metrics.head()"
   ]
  },
  {
   "cell_type": "markdown",
   "metadata": {},
   "source": [
    "#### Top 10 customers per engagement metrics"
   ]
  },
  {
   "cell_type": "code",
   "execution_count": 18,
   "metadata": {},
   "outputs": [
    {
     "name": "stdout",
     "output_type": "stream",
     "text": [
      "Top 10 Customers by Session Frequency:\n",
      "       MSISDN/Number  session_frequency  total_duration      total_DL  \\\n",
      "63868   3.366907e+10                 11        610801.0  3.477886e+09   \n",
      "1464    3.360658e+10                  8       1278102.0  3.538440e+09   \n",
      "22178   3.365043e+10                  8        684959.0  3.901098e+09   \n",
      "52752   3.366508e+10                  8        691273.0  2.840108e+09   \n",
      "65494   3.366971e+10                  8        656655.0  3.180536e+09   \n",
      "5689    3.361471e+10                  7        170680.0  3.690667e+09   \n",
      "14228   3.363043e+10                  7        606659.0  2.808531e+09   \n",
      "19069   3.364618e+10                  7       1100518.0  2.685806e+09   \n",
      "20958   3.365010e+10                  7        592044.0  2.597545e+09   \n",
      "30273   3.365899e+10                  7        600915.0  2.899545e+09   \n",
      "\n",
      "          total_UL  total_traffic  \n",
      "63868  428655875.0   3.906542e+09  \n",
      "1464   317383142.0   3.855823e+09  \n",
      "22178  281234070.0   4.182332e+09  \n",
      "52752  331680967.0   3.171789e+09  \n",
      "65494  348194212.0   3.528730e+09  \n",
      "5689   319276347.0   4.009943e+09  \n",
      "14228  216741783.0   3.025273e+09  \n",
      "19069  290557378.0   2.976364e+09  \n",
      "20958  225349702.0   2.822895e+09  \n",
      "30273  295235541.0   3.194781e+09  \n",
      "\n",
      "Top 10 Customers by Total Duration:\n",
      "       MSISDN/Number  session_frequency  total_duration      total_DL  \\\n",
      "31860   3.365936e+10                  7       1402398.0  3.041347e+09   \n",
      "1464    3.360658e+10                  8       1278102.0  3.538440e+09   \n",
      "19069   3.364618e+10                  7       1100518.0  2.685806e+09   \n",
      "88452   3.376276e+10                  6       1054344.0  2.789523e+09   \n",
      "33310   3.365973e+10                  6       1041488.0  2.266041e+09   \n",
      "48699   3.366383e+10                  6       1015882.0  1.995698e+09   \n",
      "7493    3.361800e+10                  6        987509.0  2.482465e+09   \n",
      "29596   3.365883e+10                  6        974737.0  2.276742e+09   \n",
      "81279   3.375049e+10                  5        962642.0  2.135298e+09   \n",
      "80453   3.369975e+10                  6        901991.0  2.325548e+09   \n",
      "\n",
      "          total_UL  total_traffic  \n",
      "31860  269031921.0   3.310379e+09  \n",
      "1464   317383142.0   3.855823e+09  \n",
      "19069  290557378.0   2.976364e+09  \n",
      "88452  255321851.0   3.044845e+09  \n",
      "33310  230810914.0   2.496852e+09  \n",
      "48699  210817560.0   2.206515e+09  \n",
      "7493   241252300.0   2.723717e+09  \n",
      "29596  243004763.0   2.519747e+09  \n",
      "81279  159239821.0   2.294538e+09  \n",
      "80453  209049245.0   2.534597e+09  \n",
      "\n",
      "Top 10 Customers by Total Traffic:\n",
      "       MSISDN/Number  session_frequency  total_duration      total_DL  \\\n",
      "22178   3.365043e+10                  8        684959.0  3.901098e+09   \n",
      "42495   3.366214e+10                  7        567786.0  3.873736e+09   \n",
      "61879   3.366833e+10                  6        493218.0  3.892785e+09   \n",
      "33283   3.365972e+10                  5        426533.0  3.822933e+09   \n",
      "5689    3.361471e+10                  7        170680.0  3.690667e+09   \n",
      "63868   3.366907e+10                 11        610801.0  3.477886e+09   \n",
      "55978   3.366617e+10                  7        511204.0  3.616763e+09   \n",
      "1464    3.360658e+10                  8       1278102.0  3.538440e+09   \n",
      "27596   3.365836e+10                  6        827837.0  3.559332e+09   \n",
      "3023    3.361009e+10                  6        609846.0  3.523166e+09   \n",
      "\n",
      "          total_UL  total_traffic  \n",
      "22178  281234070.0   4.182332e+09  \n",
      "42495  292673752.0   4.166410e+09  \n",
      "61879  219505997.0   4.112291e+09  \n",
      "33283  209230428.0   4.032163e+09  \n",
      "5689   319276347.0   4.009943e+09  \n",
      "63868  428655875.0   3.906542e+09  \n",
      "55978  277203680.0   3.893967e+09  \n",
      "1464   317383142.0   3.855823e+09  \n",
      "27596  286223753.0   3.845556e+09  \n",
      "3023   290468649.0   3.813635e+09  \n"
     ]
    }
   ],
   "source": [
    "top_customers_frequency = engagement_metrics.nlargest(10, 'session_frequency')\n",
    "top_customers_duration = engagement_metrics.nlargest(10, 'total_duration')\n",
    "top_customers_traffic = engagement_metrics.nlargest(10, 'total_traffic')\n",
    "\n",
    "# Print top customers for each metric\n",
    "print(\"Top 10 Customers by Session Frequency:\")\n",
    "print(top_customers_frequency)\n",
    "print(\"\\nTop 10 Customers by Total Duration:\")\n",
    "print(top_customers_duration)\n",
    "print(\"\\nTop 10 Customers by Total Traffic:\")\n",
    "print(top_customers_traffic)"
   ]
  },
  {
   "cell_type": "markdown",
   "metadata": {},
   "source": [
    "#### Normalize engagement metrics"
   ]
  },
  {
   "cell_type": "code",
   "execution_count": 19,
   "metadata": {},
   "outputs": [
    {
     "data": {
      "text/plain": [
       "array([[-0.47350876,  0.64990307, -1.12854451],\n",
       "       [-0.47350876,  0.13561244, -0.08293595],\n",
       "       [-0.47350876, -0.81035726, -0.4964242 ],\n",
       "       ...,\n",
       "       [ 0.97196919,  0.97406815,  1.10464089],\n",
       "       [-0.47350876, -1.26691652,  0.19965532],\n",
       "       [-0.47350876,  0.20252658, -0.35834545]])"
      ]
     },
     "execution_count": 19,
     "metadata": {},
     "output_type": "execute_result"
    }
   ],
   "source": [
    "from sklearn.preprocessing import StandardScaler\n",
    "\n",
    "# Normalize the engagement metrics to prepare for clustering\n",
    "scaler = StandardScaler()\n",
    "normalized_metrics = scaler.fit_transform(engagement_metrics[['session_frequency', 'total_duration', 'total_traffic']])\n",
    "normalized_metrics"
   ]
  },
  {
   "cell_type": "markdown",
   "metadata": {},
   "source": [
    "#### Run K-Means clustering"
   ]
  },
  {
   "cell_type": "code",
   "execution_count": 20,
   "metadata": {},
   "outputs": [
    {
     "data": {
      "text/html": [
       "<div>\n",
       "<style scoped>\n",
       "    .dataframe tbody tr th:only-of-type {\n",
       "        vertical-align: middle;\n",
       "    }\n",
       "\n",
       "    .dataframe tbody tr th {\n",
       "        vertical-align: top;\n",
       "    }\n",
       "\n",
       "    .dataframe thead th {\n",
       "        text-align: right;\n",
       "    }\n",
       "</style>\n",
       "<table border=\"1\" class=\"dataframe\">\n",
       "  <thead>\n",
       "    <tr style=\"text-align: right;\">\n",
       "      <th></th>\n",
       "      <th>MSISDN/Number</th>\n",
       "      <th>session_frequency</th>\n",
       "      <th>total_duration</th>\n",
       "      <th>total_DL</th>\n",
       "      <th>total_UL</th>\n",
       "      <th>total_traffic</th>\n",
       "      <th>cluster</th>\n",
       "    </tr>\n",
       "  </thead>\n",
       "  <tbody>\n",
       "    <tr>\n",
       "      <th>0</th>\n",
       "      <td>3.360100e+10</td>\n",
       "      <td>1</td>\n",
       "      <td>181230.0</td>\n",
       "      <td>1.207552e+08</td>\n",
       "      <td>36104459.0</td>\n",
       "      <td>1.568596e+08</td>\n",
       "      <td>0</td>\n",
       "    </tr>\n",
       "    <tr>\n",
       "      <th>1</th>\n",
       "      <td>3.360100e+10</td>\n",
       "      <td>1</td>\n",
       "      <td>134969.0</td>\n",
       "      <td>5.566597e+08</td>\n",
       "      <td>39306820.0</td>\n",
       "      <td>5.959665e+08</td>\n",
       "      <td>0</td>\n",
       "    </tr>\n",
       "    <tr>\n",
       "      <th>2</th>\n",
       "      <td>3.360101e+10</td>\n",
       "      <td>1</td>\n",
       "      <td>49878.0</td>\n",
       "      <td>4.019932e+08</td>\n",
       "      <td>20327526.0</td>\n",
       "      <td>4.223207e+08</td>\n",
       "      <td>0</td>\n",
       "    </tr>\n",
       "    <tr>\n",
       "      <th>3</th>\n",
       "      <td>3.360101e+10</td>\n",
       "      <td>2</td>\n",
       "      <td>37104.0</td>\n",
       "      <td>1.363130e+09</td>\n",
       "      <td>94280527.0</td>\n",
       "      <td>1.457411e+09</td>\n",
       "      <td>2</td>\n",
       "    </tr>\n",
       "    <tr>\n",
       "      <th>4</th>\n",
       "      <td>3.360101e+10</td>\n",
       "      <td>2</td>\n",
       "      <td>253983.0</td>\n",
       "      <td>5.552080e+08</td>\n",
       "      <td>60009249.0</td>\n",
       "      <td>6.152172e+08</td>\n",
       "      <td>2</td>\n",
       "    </tr>\n",
       "    <tr>\n",
       "      <th>...</th>\n",
       "      <td>...</td>\n",
       "      <td>...</td>\n",
       "      <td>...</td>\n",
       "      <td>...</td>\n",
       "      <td>...</td>\n",
       "      <td>...</td>\n",
       "      <td>...</td>\n",
       "    </tr>\n",
       "    <tr>\n",
       "      <th>95871</th>\n",
       "      <td>3.378996e+10</td>\n",
       "      <td>1</td>\n",
       "      <td>157069.0</td>\n",
       "      <td>6.741405e+08</td>\n",
       "      <td>36147061.0</td>\n",
       "      <td>7.102876e+08</td>\n",
       "      <td>0</td>\n",
       "    </tr>\n",
       "    <tr>\n",
       "      <th>95872</th>\n",
       "      <td>3.378997e+10</td>\n",
       "      <td>1</td>\n",
       "      <td>160461.0</td>\n",
       "      <td>1.740564e+08</td>\n",
       "      <td>34066711.0</td>\n",
       "      <td>2.081231e+08</td>\n",
       "      <td>0</td>\n",
       "    </tr>\n",
       "    <tr>\n",
       "      <th>95873</th>\n",
       "      <td>3.378998e+10</td>\n",
       "      <td>2</td>\n",
       "      <td>210389.0</td>\n",
       "      <td>1.023862e+09</td>\n",
       "      <td>70831420.0</td>\n",
       "      <td>1.094693e+09</td>\n",
       "      <td>2</td>\n",
       "    </tr>\n",
       "    <tr>\n",
       "      <th>95874</th>\n",
       "      <td>3.379000e+10</td>\n",
       "      <td>1</td>\n",
       "      <td>8810.0</td>\n",
       "      <td>6.879252e+08</td>\n",
       "      <td>26716429.0</td>\n",
       "      <td>7.146416e+08</td>\n",
       "      <td>0</td>\n",
       "    </tr>\n",
       "    <tr>\n",
       "      <th>95875</th>\n",
       "      <td>3.379000e+10</td>\n",
       "      <td>1</td>\n",
       "      <td>140988.0</td>\n",
       "      <td>4.445751e+08</td>\n",
       "      <td>35732243.0</td>\n",
       "      <td>4.803073e+08</td>\n",
       "      <td>0</td>\n",
       "    </tr>\n",
       "  </tbody>\n",
       "</table>\n",
       "<p>95876 rows × 7 columns</p>\n",
       "</div>"
      ],
      "text/plain": [
       "       MSISDN/Number  session_frequency  total_duration      total_DL  \\\n",
       "0       3.360100e+10                  1        181230.0  1.207552e+08   \n",
       "1       3.360100e+10                  1        134969.0  5.566597e+08   \n",
       "2       3.360101e+10                  1         49878.0  4.019932e+08   \n",
       "3       3.360101e+10                  2         37104.0  1.363130e+09   \n",
       "4       3.360101e+10                  2        253983.0  5.552080e+08   \n",
       "...              ...                ...             ...           ...   \n",
       "95871   3.378996e+10                  1        157069.0  6.741405e+08   \n",
       "95872   3.378997e+10                  1        160461.0  1.740564e+08   \n",
       "95873   3.378998e+10                  2        210389.0  1.023862e+09   \n",
       "95874   3.379000e+10                  1          8810.0  6.879252e+08   \n",
       "95875   3.379000e+10                  1        140988.0  4.445751e+08   \n",
       "\n",
       "         total_UL  total_traffic  cluster  \n",
       "0      36104459.0   1.568596e+08        0  \n",
       "1      39306820.0   5.959665e+08        0  \n",
       "2      20327526.0   4.223207e+08        0  \n",
       "3      94280527.0   1.457411e+09        2  \n",
       "4      60009249.0   6.152172e+08        2  \n",
       "...           ...            ...      ...  \n",
       "95871  36147061.0   7.102876e+08        0  \n",
       "95872  34066711.0   2.081231e+08        0  \n",
       "95873  70831420.0   1.094693e+09        2  \n",
       "95874  26716429.0   7.146416e+08        0  \n",
       "95875  35732243.0   4.803073e+08        0  \n",
       "\n",
       "[95876 rows x 7 columns]"
      ]
     },
     "execution_count": 20,
     "metadata": {},
     "output_type": "execute_result"
    }
   ],
   "source": [
    "from sklearn.cluster import KMeans\n",
    "\n",
    "# Perform k-means clustering with k=3\n",
    "kmeans = KMeans(n_clusters=3, random_state=42)\n",
    "engagement_metrics['cluster'] = kmeans.fit_predict(normalized_metrics)\n",
    "engagement_metrics"
   ]
  },
  {
   "cell_type": "markdown",
   "metadata": {},
   "source": [
    "#### Computer mtrics per cluster"
   ]
  },
  {
   "cell_type": "code",
   "execution_count": 21,
   "metadata": {},
   "outputs": [
    {
     "data": {
      "text/html": [
       "<div>\n",
       "<style scoped>\n",
       "    .dataframe tbody tr th:only-of-type {\n",
       "        vertical-align: middle;\n",
       "    }\n",
       "\n",
       "    .dataframe tbody tr th {\n",
       "        vertical-align: top;\n",
       "    }\n",
       "\n",
       "    .dataframe thead th {\n",
       "        text-align: right;\n",
       "    }\n",
       "</style>\n",
       "<table border=\"1\" class=\"dataframe\">\n",
       "  <thead>\n",
       "    <tr style=\"text-align: right;\">\n",
       "      <th></th>\n",
       "      <th>cluster</th>\n",
       "      <th>min_frequency</th>\n",
       "      <th>max_frequency</th>\n",
       "      <th>avg_duration</th>\n",
       "      <th>total_traffic</th>\n",
       "    </tr>\n",
       "  </thead>\n",
       "  <tbody>\n",
       "    <tr>\n",
       "      <th>0</th>\n",
       "      <td>0</td>\n",
       "      <td>0</td>\n",
       "      <td>2</td>\n",
       "      <td>93446.121445</td>\n",
       "      <td>3.483579e+13</td>\n",
       "    </tr>\n",
       "    <tr>\n",
       "      <th>1</th>\n",
       "      <td>1</td>\n",
       "      <td>2</td>\n",
       "      <td>11</td>\n",
       "      <td>372600.770620</td>\n",
       "      <td>7.636387e+12</td>\n",
       "    </tr>\n",
       "    <tr>\n",
       "      <th>2</th>\n",
       "      <td>2</td>\n",
       "      <td>1</td>\n",
       "      <td>4</td>\n",
       "      <td>183664.454811</td>\n",
       "      <td>1.800599e+13</td>\n",
       "    </tr>\n",
       "  </tbody>\n",
       "</table>\n",
       "</div>"
      ],
      "text/plain": [
       "   cluster  min_frequency  max_frequency   avg_duration  total_traffic\n",
       "0        0              0              2   93446.121445   3.483579e+13\n",
       "1        1              2             11  372600.770620   7.636387e+12\n",
       "2        2              1              4  183664.454811   1.800599e+13"
      ]
     },
     "execution_count": 21,
     "metadata": {},
     "output_type": "execute_result"
    }
   ],
   "source": [
    "# Calculate min, max, average, and total non-normalized metrics for each cluster\n",
    "cluster_summary = engagement_metrics.groupby('cluster').agg(\n",
    "    min_frequency=('session_frequency', 'min'),\n",
    "    max_frequency=('session_frequency', 'max'),\n",
    "    avg_duration=('total_duration', 'mean'),\n",
    "    total_traffic=('total_traffic', 'sum')\n",
    ").reset_index()\n",
    "cluster_summary"
   ]
  },
  {
   "cell_type": "markdown",
   "metadata": {},
   "source": [
    "#### Visualize clusters"
   ]
  },
  {
   "cell_type": "code",
   "execution_count": 22,
   "metadata": {},
   "outputs": [
    {
     "data": {
      "image/png": "[encoded data removed]",
      "text/plain": [
       "<Figure size 640x480 with 1 Axes>"
      ]
     },
     "metadata": {},
     "output_type": "display_data"
    }
   ],
   "source": [
    "# Create bar plots to visualize average session duration by cluster\n",
    "sns.barplot(data=cluster_summary, x='cluster', y='avg_duration')\n",
    "plt.title('Average Duration per Engagement Cluster')\n",
    "plt.xlabel('Cluster')\n",
    "plt.ylabel('Average Session Duration (ms)')\n",
    "plt.show()"
   ]
  },
  {
   "cell_type": "markdown",
   "metadata": {},
   "source": [
    "#### Aggregate traffic per application"
   ]
  },
  {
   "cell_type": "code",
   "execution_count": 23,
   "metadata": {},
   "outputs": [
    {
     "name": "stdout",
     "output_type": "stream",
     "text": [
      "    application      total_DL      total_UL  total_traffic\n",
      "0  Social Media  2.307485e+11  4.233590e+09   2.349821e+11\n",
      "1        Google  7.377796e+11  2.624582e+11   1.000238e+12\n",
      "2         Email  2.301749e+11  6.001689e+10   2.901917e+11\n",
      "3       Youtube  1.488266e+12  1.368978e+12   2.857244e+12\n",
      "4       Netflix  1.487065e+12  1.368663e+12   2.855728e+12\n",
      "5        Gaming  5.160746e+13  1.036522e+12   5.264398e+13\n",
      "6         Other  5.419235e+13  1.034775e+12   5.522712e+13\n"
     ]
    }
   ],
   "source": [
    "# Create a list to hold the aggregated traffic data\n",
    "app_traffic_list = []\n",
    "\n",
    "# Define the application categories and their corresponding download and upload columns\n",
    "application_categories = {\n",
    "    'Social Media': ['Social Media DL (Bytes)', 'Social Media UL (Bytes)'],\n",
    "    'Google': ['Google DL (Bytes)', 'Google UL (Bytes)'],\n",
    "    'Email': ['Email DL (Bytes)', 'Email UL (Bytes)'],\n",
    "    'Youtube': ['Youtube DL (Bytes)', 'Youtube UL (Bytes)'],\n",
    "    'Netflix': ['Netflix DL (Bytes)', 'Netflix UL (Bytes)'],\n",
    "    'Gaming': ['Gaming DL (Bytes)', 'Gaming UL (Bytes)'],\n",
    "    'Other': ['Other DL (Bytes)', 'Other UL (Bytes)']\n",
    "}\n",
    "\n",
    "# Aggregate traffic for each application category\n",
    "for app_name, traffic_columns in application_categories.items():\n",
    "    total_DL = df[traffic_columns[0]].sum()  # Total download for the application\n",
    "    total_UL = df[traffic_columns[1]].sum()  # Total upload for the application\n",
    "    \n",
    "    # Append the results as a dictionary to the list\n",
    "    app_traffic_list.append({\n",
    "        'application': app_name,\n",
    "        'total_DL': total_DL,\n",
    "        'total_UL': total_UL,\n",
    "        'total_traffic': total_DL + total_UL\n",
    "    })\n",
    "\n",
    "# Create a DataFrame from the list of dictionaries\n",
    "app_traffic = pd.DataFrame(app_traffic_list)\n",
    "\n",
    "# Display the aggregated traffic data per application\n",
    "print(app_traffic)"
   ]
  },
  {
   "cell_type": "markdown",
   "metadata": {},
   "source": [
    "#### Top 10 most engaged users per application"
   ]
  },
  {
   "cell_type": "code",
   "execution_count": 24,
   "metadata": {},
   "outputs": [
    {
     "name": "stderr",
     "output_type": "stream",
     "text": [
      "C:\\Users\\hp\\AppData\\Local\\Temp\\ipykernel_21876\\1932469755.py:8: SettingWithCopyWarning: \n",
      "A value is trying to be set on a copy of a slice from a DataFrame.\n",
      "Try using .loc[row_indexer,col_indexer] = value instead\n",
      "\n",
      "See the caveats in the documentation: https://pandas.pydata.org/pandas-docs/stable/user_guide/indexing.html#returning-a-view-versus-a-copy\n",
      "  user_traffic['total_traffic'] = user_traffic[traffic_columns[0]] + user_traffic[traffic_columns[1]]\n",
      "C:\\Users\\hp\\AppData\\Local\\Temp\\ipykernel_21876\\1932469755.py:8: SettingWithCopyWarning: \n",
      "A value is trying to be set on a copy of a slice from a DataFrame.\n",
      "Try using .loc[row_indexer,col_indexer] = value instead\n",
      "\n",
      "See the caveats in the documentation: https://pandas.pydata.org/pandas-docs/stable/user_guide/indexing.html#returning-a-view-versus-a-copy\n",
      "  user_traffic['total_traffic'] = user_traffic[traffic_columns[0]] + user_traffic[traffic_columns[1]]\n",
      "C:\\Users\\hp\\AppData\\Local\\Temp\\ipykernel_21876\\1932469755.py:8: SettingWithCopyWarning: \n",
      "A value is trying to be set on a copy of a slice from a DataFrame.\n",
      "Try using .loc[row_indexer,col_indexer] = value instead\n",
      "\n",
      "See the caveats in the documentation: https://pandas.pydata.org/pandas-docs/stable/user_guide/indexing.html#returning-a-view-versus-a-copy\n",
      "  user_traffic['total_traffic'] = user_traffic[traffic_columns[0]] + user_traffic[traffic_columns[1]]\n",
      "C:\\Users\\hp\\AppData\\Local\\Temp\\ipykernel_21876\\1932469755.py:8: SettingWithCopyWarning: \n",
      "A value is trying to be set on a copy of a slice from a DataFrame.\n",
      "Try using .loc[row_indexer,col_indexer] = value instead\n",
      "\n",
      "See the caveats in the documentation: https://pandas.pydata.org/pandas-docs/stable/user_guide/indexing.html#returning-a-view-versus-a-copy\n",
      "  user_traffic['total_traffic'] = user_traffic[traffic_columns[0]] + user_traffic[traffic_columns[1]]\n",
      "C:\\Users\\hp\\AppData\\Local\\Temp\\ipykernel_21876\\1932469755.py:8: SettingWithCopyWarning: \n",
      "A value is trying to be set on a copy of a slice from a DataFrame.\n",
      "Try using .loc[row_indexer,col_indexer] = value instead\n",
      "\n",
      "See the caveats in the documentation: https://pandas.pydata.org/pandas-docs/stable/user_guide/indexing.html#returning-a-view-versus-a-copy\n",
      "  user_traffic['total_traffic'] = user_traffic[traffic_columns[0]] + user_traffic[traffic_columns[1]]\n"
     ]
    },
    {
     "name": "stdout",
     "output_type": "stream",
     "text": [
      "\n",
      "Top 10 Most Engaged Users for Social Media:\n",
      "\n",
      "       MSISDN/Number  total_traffic   application\n",
      "63868   3.366907e+10     23800834.0  Social Media\n",
      "26709   3.365816e+10     17982623.0  Social Media\n",
      "33310   3.365973e+10     17311846.0  Social Media\n",
      "33594   3.365980e+10     16585183.0  Social Media\n",
      "20958   3.365010e+10     16105635.0  Social Media\n",
      "1464    3.360658e+10     15950782.0  Social Media\n",
      "35282   3.366025e+10     15948611.0  Social Media\n",
      "68780   3.367608e+10     15720516.0  Social Media\n",
      "30250   3.365899e+10     15643422.0  Social Media\n",
      "58136   3.366699e+10     15285189.0  Social Media\n",
      "\n",
      "\n",
      "Top 10 Most Engaged Users for Google:\n",
      "\n",
      "       MSISDN/Number  total_traffic application\n",
      "1464    3.360658e+10     79754779.0      Google\n",
      "63868   3.366907e+10     77824684.0      Google\n",
      "68780   3.367608e+10     71974850.0      Google\n",
      "22178   3.365043e+10     71589659.0      Google\n",
      "52752   3.366508e+10     67692063.0      Google\n",
      "26709   3.365816e+10     65332551.0      Google\n",
      "58136   3.366699e+10     64987748.0      Google\n",
      "42790   3.366222e+10     64453926.0      Google\n",
      "23395   3.365073e+10     62342643.0      Google\n",
      "87062   3.376206e+10     62163179.0      Google\n",
      "\n",
      "\n",
      "Top 10 Most Engaged Users for Email:\n",
      "\n",
      "       MSISDN/Number  total_traffic application\n",
      "63868   3.366907e+10     22923413.0       Email\n",
      "30273   3.365899e+10     20999792.0       Email\n",
      "68780   3.367608e+10     20610254.0       Email\n",
      "20958   3.365010e+10     19050869.0       Email\n",
      "31515   3.365928e+10     18827434.0       Email\n",
      "72177   3.368366e+10     18605463.0       Email\n",
      "42495   3.366214e+10     18476524.0       Email\n",
      "27845   3.365842e+10     18353418.0       Email\n",
      "33594   3.365980e+10     18271967.0       Email\n",
      "35282   3.366025e+10     18128562.0       Email\n",
      "\n",
      "\n",
      "Top 10 Most Engaged Users for Youtube:\n",
      "\n",
      "       MSISDN/Number  total_traffic application\n",
      "65494   3.366971e+10    237027116.0     Youtube\n",
      "63868   3.366907e+10    236402804.0     Youtube\n",
      "1464    3.360658e+10    202592674.0     Youtube\n",
      "38640   3.366113e+10    188002089.0     Youtube\n",
      "71524   3.368217e+10    183653962.0     Youtube\n",
      "52752   3.366508e+10    182475127.0     Youtube\n",
      "42495   3.366214e+10    180195384.0     Youtube\n",
      "55978   3.366617e+10    180131055.0     Youtube\n",
      "37637   3.366085e+10    179286003.0     Youtube\n",
      "68780   3.367608e+10    178634466.0     Youtube\n",
      "\n",
      "\n",
      "Top 10 Most Engaged Users for Netflix:\n",
      "\n",
      "       MSISDN/Number  total_traffic application\n",
      "63868   3.366907e+10    212009030.0     Netflix\n",
      "33594   3.365980e+10    199479181.0     Netflix\n",
      "21299   3.365019e+10    190469889.0     Netflix\n",
      "23053   3.365064e+10    188884851.0     Netflix\n",
      "35374   3.366027e+10    188287251.0     Netflix\n",
      "55978   3.366617e+10    183808503.0     Netflix\n",
      "56628   3.366643e+10    182769851.0     Netflix\n",
      "1464    3.360658e+10    180369034.0     Netflix\n",
      "76219   3.369825e+10    178348449.0     Netflix\n",
      "19139   3.364629e+10    177829492.0     Netflix\n",
      "\n",
      "\n",
      "Top 10 Most Engaged Users for Gaming:\n",
      "\n",
      "       MSISDN/Number  total_traffic application\n",
      "22178   3.365043e+10   3.723232e+09      Gaming\n",
      "61879   3.366833e+10   3.712677e+09      Gaming\n",
      "33283   3.365972e+10   3.685652e+09      Gaming\n",
      "42495   3.366214e+10   3.680873e+09      Gaming\n",
      "5689    3.361471e+10   3.522810e+09      Gaming\n",
      "55978   3.366617e+10   3.413097e+09      Gaming\n",
      "3023    3.361009e+10   3.401993e+09      Gaming\n",
      "27596   3.365836e+10   3.401491e+09      Gaming\n",
      "45876   3.366303e+10   3.398517e+09      Gaming\n",
      "23395   3.365073e+10   3.397826e+09      Gaming\n",
      "\n",
      "\n",
      "Top 10 Most Engaged Users for Other:\n",
      "\n",
      "       MSISDN/Number  total_traffic application\n",
      "63868   3.366907e+10   4.605369e+09       Other\n",
      "71524   3.368217e+10   4.138144e+09       Other\n",
      "82535   3.376011e+10   3.982495e+09       Other\n",
      "52752   3.366508e+10   3.824015e+09       Other\n",
      "53644   3.366534e+10   3.719974e+09       Other\n",
      "76219   3.369825e+10   3.697982e+09       Other\n",
      "79197   3.369933e+10   3.638707e+09       Other\n",
      "35374   3.366027e+10   3.606878e+09       Other\n",
      "14228   3.363043e+10   3.602322e+09       Other\n",
      "72177   3.368366e+10   3.530614e+09       Other\n",
      "\n"
     ]
    },
    {
     "name": "stderr",
     "output_type": "stream",
     "text": [
      "C:\\Users\\hp\\AppData\\Local\\Temp\\ipykernel_21876\\1932469755.py:8: SettingWithCopyWarning: \n",
      "A value is trying to be set on a copy of a slice from a DataFrame.\n",
      "Try using .loc[row_indexer,col_indexer] = value instead\n",
      "\n",
      "See the caveats in the documentation: https://pandas.pydata.org/pandas-docs/stable/user_guide/indexing.html#returning-a-view-versus-a-copy\n",
      "  user_traffic['total_traffic'] = user_traffic[traffic_columns[0]] + user_traffic[traffic_columns[1]]\n",
      "C:\\Users\\hp\\AppData\\Local\\Temp\\ipykernel_21876\\1932469755.py:8: SettingWithCopyWarning: \n",
      "A value is trying to be set on a copy of a slice from a DataFrame.\n",
      "Try using .loc[row_indexer,col_indexer] = value instead\n",
      "\n",
      "See the caveats in the documentation: https://pandas.pydata.org/pandas-docs/stable/user_guide/indexing.html#returning-a-view-versus-a-copy\n",
      "  user_traffic['total_traffic'] = user_traffic[traffic_columns[0]] + user_traffic[traffic_columns[1]]\n"
     ]
    }
   ],
   "source": [
    "# Create an empty DataFrame to hold the top users per application\n",
    "top_users_per_app = {}\n",
    "\n",
    "# Loop through each application category to compute user traffic\n",
    "for app_name, traffic_columns in application_categories.items():\n",
    "    user_traffic = df[['MSISDN/Number'] + traffic_columns]\n",
    "    \n",
    "    user_traffic['total_traffic'] = user_traffic[traffic_columns[0]] + user_traffic[traffic_columns[1]]\n",
    "    \n",
    "    user_traffic_sum = user_traffic.groupby('MSISDN/Number').agg(total_traffic=('total_traffic', 'sum')).reset_index()\n",
    "    \n",
    "    user_traffic_sum['application'] = app_name\n",
    "    \n",
    "    top_10_users = user_traffic_sum.nlargest(10, 'total_traffic')\n",
    "    \n",
    "    # Store results in a dictionary\n",
    "    top_users_per_app[app_name] = top_10_users\n",
    "\n",
    "# Display the top users per application\n",
    "for app_name, users in top_users_per_app.items():\n",
    "    print(f\"\\nTop 10 Most Engaged Users for {app_name}:\")\n",
    "    print(\"\")\n",
    "    print(users)\n",
    "    print(\"\")"
   ]
  },
  {
   "cell_type": "markdown",
   "metadata": {},
   "source": [
    "#### Optimize value of K using Elbow Method"
   ]
  },
  {
   "cell_type": "code",
   "execution_count": 25,
   "metadata": {},
   "outputs": [
    {
     "data": {
      "image/png": "[encoded data removed]",
      "text/plain": [
       "<Figure size 640x480 with 1 Axes>"
      ]
     },
     "metadata": {},
     "output_type": "display_data"
    }
   ],
   "source": [
    "# Determine the optimal number of clusters using the elbow method\n",
    "inertia = []\n",
    "for k in range(1, 11):\n",
    "    kmeans = KMeans(n_clusters=k, random_state=42)\n",
    "    kmeans.fit(normalized_metrics)\n",
    "    inertia.append(kmeans.inertia_)\n",
    "\n",
    "# Plot the results of the elbow method\n",
    "plt.plot(range(1, 11), inertia, marker='o')\n",
    "plt.title('Elbow Method for Optimal K')\n",
    "plt.xlabel('Number of Clusters (K)')\n",
    "plt.ylabel('Inertia')\n",
    "plt.show()"
   ]
  }
 ],
 "metadata": {
  "kernelspec": {
   "display_name": ".venv",
   "language": "python",
   "name": "python3"
  },
  "language_info": {
   "codemirror_mode": {
    "name": "ipython",
    "version": 3
   },
   "file_extension": ".py",
   "mimetype": "text/x-python",
   "name": "python",
   "nbconvert_exporter": "python",
   "pygments_lexer": "ipython3",
   "version": "3.11.0"
  }
 },
 "nbformat": 4,
 "nbformat_minor": 2
}
